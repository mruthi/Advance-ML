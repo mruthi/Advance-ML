{
 "cells": [
  {
   "cell_type": "code",
   "execution_count": 9,
   "id": "7980fea4",
   "metadata": {},
   "outputs": [],
   "source": [
    "import pandas as pd\n",
    "import numpy as np\n",
    "import time\n",
    "import pickle\n",
    "import matplotlib.pyplot as plt\n",
    "from sklearn.model_selection import train_test_split\n",
    "from sklearn.preprocessing import StandardScaler\n",
    "from sklearn.feature_selection import SelectKBest\n",
    "from sklearn.feature_selection import chi2\n",
    "from sklearn.feature_selection import RFE\n",
    "from sklearn.linear_model import LogisticRegression\n",
    "from sklearn.decomposition import PCA\n",
    "from sklearn.metrics import confusion_matrix,accuracy_score,classification_report"
   ]
  },
  {
   "cell_type": "code",
   "execution_count": 10,
   "id": "041748c7",
   "metadata": {},
   "outputs": [],
   "source": [
    "def PCA(x_train,x_test,n):\n",
    "    pca=PCA(n_components = n)\n",
    "    x_train1=pca.fit_transform(x_train)\n",
    "    x_test1=pca.transform(x_test)\n",
    "    explained_variance = pca.explained_variance_ratio_\n",
    "    return explained_variance,x_train1,x_test1\n",
    "    \n",
    "def split_scalar(indep_x,dep_y):\n",
    "    x_train,x_test,y_train,y_test=train_test_split(indep_x,dep_y,test_size=0.25,random_state=0)\n",
    "    sc=StandardScaler()\n",
    "    x_train=sc.fit_transform(x_train)\n",
    "    x_test=sc.transform(x_test)\n",
    "    return x_train,x_test,y_train,y_test\n",
    "\n",
    "def cm_prediction(classifier,x_test1):\n",
    "    y_pred=classifier.predict(x_test1)\n",
    "#Making confusion matrix\n",
    "    from sklearn.metrics import confusion_matrix\n",
    "    cm=confusion_matrix(y_test,y_pred)\n",
    "    \n",
    "    from sklearn.metrics import accuracy_score\n",
    "    from sklearn.metrics import classification_report\n",
    "    accuracy=accuracy_score(y_test,y_pred)\n",
    "    \n",
    "    report=classification_report(y_test,y_pred)\n",
    "    return classifier,accuracy,report,x_test1,y_test,cm\n",
    "\n",
    "def logistic(x_train1,y_train,x_test1):\n",
    "    from sklearn.linear_model import LogisticRegression\n",
    "    classifier=LogisticRegression(random_state=0)\n",
    "    classifier.fit(x_train1,y_train)\n",
    "    classifier,accuracy,report,x_test1,y_test,cm=cm_prediction(classifier,x_test1)\n",
    "    return classifier,accuracy,report,x_test1,y_test,cm\n",
    "\n",
    "def svm_linear(x_train1,y_train,x_test1):\n",
    "    from sklearn.svm import SVC\n",
    "    classifier=SVC(kernel=\"linear\",random_state=0)\n",
    "    classifier.fit(x_train1,y_train)\n",
    "    classifier,accuracy,report,x_test1,y_test,cm=cm_prediction(classifier,x_test1)\n",
    "    return classifier,accuracy,report,x_test1,y_test,cm\n",
    "\n",
    "def svm_NL(x_train1,y_train,x_test1):\n",
    "    from sklearn.svm import SVC\n",
    "    classifier=SVC(kernel=\"rbf\",random_state=0)\n",
    "    classifier.fit(x_train1,y_train)\n",
    "    classifier,accuracy,report,x_test1,y_test,cm=cm_prediction(classifier,x_test1)\n",
    "    return classifier,accuracy,report,x_test1,y_test,cm\n",
    "\n",
    "def Navie(x_train1,y_train,x_test1):\n",
    "    from sklearn.naive_bayes import GaussianNB\n",
    "    classifier=GaussianNB()\n",
    "    classifier.fit(x_train1,y_train)\n",
    "    classifier,accuracy,report,x_test1,y_test,cm=cm_prediction(classifier,x_test1)\n",
    "    return classifier,accuracy,report,x_test1,y_test,cm\n",
    "\n",
    "def knn(x_train1,y_train,x_test1):\n",
    "    from sklearn.neighbors import KNeighborsClassifier\n",
    "    classifier=KNeighborsClassifier(n_neighbors=5,metric='minkowski',p=2)\n",
    "    classifier.fit(x_train1,y_train)\n",
    "    classifier,accuracy,report,x_test1,y_test,cm=cm_prediction(classifier,x_test1)\n",
    "    return classifier,accuracy,report,x_test1,y_test,cm\n",
    "\n",
    "\n",
    "def DecisionTree(x_train1,y_train,x_test1):\n",
    "    from sklearn.tree import DecisionTreeClassifier\n",
    "    classifier=DecisionTreeClassifier(criterion=\"entropy\",random_state=0)\n",
    "    classifier.fit(x_train1,y_train)\n",
    "    classifier,accuracy,report,x_test1,y_test,cm=cm_prediction(classifier,x_test1)\n",
    "    return classifier,accuracy,report,x_test1,y_test,cm\n",
    "\n",
    "def RandomForest(x_train1,y_train,x_test1):\n",
    "    from sklearn.ensemble import RandomForestClassifier\n",
    "    classifier=RandomForestClassifier(n_estimators=10, criterion=\"entropy\",random_state=0)\n",
    "    classifier.fit(x_train1,y_train)\n",
    "    classifier,accuracy,report,x_test1,y_test,cm=cm_prediction(classifier,x_test1)\n",
    "    return classifier,accuracy,report,x_test1,y_test,cm\n"
   ]
  },
  {
   "cell_type": "code",
   "execution_count": 11,
   "id": "c598a805",
   "metadata": {},
   "outputs": [],
   "source": [
    "def PCA(acclog,accsvm1,accsvmn1,accknn,accnav,accdes,accrf):\n",
    "    dataframe=pd.DataFrame(index=[\"PCA\"],columns=[\"Logistic\",\"SVM1\",\"SVMn1\",\n",
    "                                                        \"KNN\",\"Navie\",\"Decision\",\"Random\"])\n",
    "    for number,idex in enumerate(dataframe.index):\n",
    "        dataframe[\"Logistic\"][idex]=acclog[number]\n",
    "        dataframe[\"SVM1\"][idex]=accsvm1[number]\n",
    "        dataframe[\"SVMn1\"][idex]=accsvmn1[number]\n",
    "        dataframe[\"KNN\"][idex]=accknn[number]\n",
    "        dataframe[\"Navie\"][idex]=accnav[number]\n",
    "        dataframe[\"Decision\"][idex]=accdes[number]\n",
    "        dataframe[\"Random\"][idex]=accrf[number]\n",
    "    return dataframe    "
   ]
  },
  {
   "cell_type": "code",
   "execution_count": 12,
   "id": "25982096",
   "metadata": {},
   "outputs": [],
   "source": [
    "dataset1=pd.read_csv(\"prep.csv\",index_col=None)\n",
    "df2=dataset1\n",
    "df=pd.get_dummies(df2,drop_first=True)\n",
    "indep_x=df.drop(\"classification_yes\",axis=1)\n",
    "dep_y=df[\"classification_yes\"]"
   ]
  },
  {
   "cell_type": "code",
   "execution_count": 15,
   "id": "7a88c6b2",
   "metadata": {},
   "outputs": [],
   "source": [
    "x_train,x_test,y_train,y_test=split_scalar(indep_x,dep_y)"
   ]
  },
  {
   "cell_type": "code",
   "execution_count": 16,
   "id": "5c169b1b",
   "metadata": {},
   "outputs": [
    {
     "ename": "TypeError",
     "evalue": "PCA() missing 4 required positional arguments: 'accknn', 'accnav', 'accdes', and 'accrf'",
     "output_type": "error",
     "traceback": [
      "\u001b[1;31m---------------------------------------------------------------------------\u001b[0m",
      "\u001b[1;31mTypeError\u001b[0m                                 Traceback (most recent call last)",
      "\u001b[1;32m~\\AppData\\Local\\Temp\\ipykernel_7532\\3128176962.py\u001b[0m in \u001b[0;36m<module>\u001b[1;34m\u001b[0m\n\u001b[1;32m----> 1\u001b[1;33m \u001b[0mpca\u001b[0m\u001b[1;33m=\u001b[0m\u001b[0mPCA\u001b[0m\u001b[1;33m(\u001b[0m\u001b[0mx_train\u001b[0m\u001b[1;33m,\u001b[0m\u001b[0mx_test\u001b[0m\u001b[1;33m,\u001b[0m\u001b[1;36m5\u001b[0m\u001b[1;33m)\u001b[0m\u001b[1;33m\u001b[0m\u001b[1;33m\u001b[0m\u001b[0m\n\u001b[0m\u001b[0;32m      2\u001b[0m \u001b[0macclog\u001b[0m\u001b[1;33m=\u001b[0m\u001b[1;33m[\u001b[0m\u001b[1;33m]\u001b[0m\u001b[1;33m\u001b[0m\u001b[1;33m\u001b[0m\u001b[0m\n\u001b[0;32m      3\u001b[0m \u001b[0maccsvm1\u001b[0m\u001b[1;33m=\u001b[0m\u001b[1;33m[\u001b[0m\u001b[1;33m]\u001b[0m\u001b[1;33m\u001b[0m\u001b[1;33m\u001b[0m\u001b[0m\n\u001b[0;32m      4\u001b[0m \u001b[0maccsvmn1\u001b[0m\u001b[1;33m=\u001b[0m\u001b[1;33m[\u001b[0m\u001b[1;33m]\u001b[0m\u001b[1;33m\u001b[0m\u001b[1;33m\u001b[0m\u001b[0m\n\u001b[0;32m      5\u001b[0m \u001b[0maccknn\u001b[0m\u001b[1;33m=\u001b[0m\u001b[1;33m[\u001b[0m\u001b[1;33m]\u001b[0m\u001b[1;33m\u001b[0m\u001b[1;33m\u001b[0m\u001b[0m\n",
      "\u001b[1;31mTypeError\u001b[0m: PCA() missing 4 required positional arguments: 'accknn', 'accnav', 'accdes', and 'accrf'"
     ]
    }
   ],
   "source": [
    "pca=PCA(x_train,x_test,5)\n",
    "acclog=[]\n",
    "accsvm1=[]\n",
    "accsvmn1=[]\n",
    "accknn=[]\n",
    "accnav=[]\n",
    "accdes=[]\n",
    "accrf=[]"
   ]
  },
  {
   "cell_type": "code",
   "execution_count": null,
   "id": "1fd6a165",
   "metadata": {},
   "outputs": [],
   "source": []
  }
 ],
 "metadata": {
  "kernelspec": {
   "display_name": "Python 3 (ipykernel)",
   "language": "python",
   "name": "python3"
  },
  "language_info": {
   "codemirror_mode": {
    "name": "ipython",
    "version": 3
   },
   "file_extension": ".py",
   "mimetype": "text/x-python",
   "name": "python",
   "nbconvert_exporter": "python",
   "pygments_lexer": "ipython3",
   "version": "3.7.6"
  }
 },
 "nbformat": 4,
 "nbformat_minor": 5
}

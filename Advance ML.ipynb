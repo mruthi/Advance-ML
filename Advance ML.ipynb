{
 "cells": [
  {
   "cell_type": "code",
   "execution_count": 1,
   "id": "d98cfed3",
   "metadata": {},
   "outputs": [],
   "source": [
    "import pandas as pd\n",
    "import numpy as np\n",
    "import time\n",
    "import pickle\n",
    "import matplotlib.pyplot as plt\n",
    "from sklearn.model_selection import train_test_split\n",
    "from sklearn.preprocessing import StandardScaler\n",
    "from sklearn.feature_selection import SelectKBest\n",
    "from sklearn.feature_selection import chi2\n",
    "from sklearn.feature_selection import RFE\n",
    "from sklearn.linear_model import LogisticRegression\n"
   ]
  },
  {
   "cell_type": "code",
   "execution_count": 2,
   "id": "e6b48a38",
   "metadata": {},
   "outputs": [],
   "source": [
    "def selectkbest(indep_x,dep_y,n):\n",
    "    test=SelectKBest(score_func=chi2,k=n)\n",
    "    fit1=test.fit(indep_x,dep_y)\n",
    "    selectk_features=fit1.transform(indep_x)\n",
    "    return selectk_features\n",
    "    "
   ]
  },
  {
   "cell_type": "code",
   "execution_count": 3,
   "id": "469d7995",
   "metadata": {},
   "outputs": [],
   "source": [
    "def split_scalar(indep_x,dep_y):\n",
    "    x_train,x_test,y_train,y_test=train_test_split(indep_x,dep_y,test_size=0.25,random_state=0)\n",
    "    sc=StandardScaler()\n",
    "    x_train=sc.fit_transform(x_train)\n",
    "    x_test=sc.transform(x_test)\n",
    "    return x_train,x_test,y_train,y_test\n"
   ]
  },
  {
   "cell_type": "code",
   "execution_count": 4,
   "id": "11393c14",
   "metadata": {},
   "outputs": [],
   "source": [
    "def cm_prediction(classifier,x_test):\n",
    "    y_pred=classifier.predict(x_test)\n",
    "#Making confusion matrix\n",
    "    from sklearn.metrics import confusion_matrix\n",
    "    cm=confusion_matrix(y_pred,y_test)\n",
    "    from sklearn.metrics import accuracy_score\n",
    "    from sklearn.metrics import classification_report\n",
    "    accuracy=accuracy_score(y_pred,y_test)\n",
    "    report=classification_report(y_pred,y_test)\n",
    "    return classifier,cm,accuracy,report,x_test,y_test"
   ]
  },
  {
   "cell_type": "code",
   "execution_count": 5,
   "id": "d8fbc45a",
   "metadata": {},
   "outputs": [],
   "source": [
    "def logistic(x_train,y_train,x_test):\n",
    "    from sklearn.linear_model import LogisticRegression\n",
    "    classifier=LogisticRegression(random_state=0)\n",
    "    classifier.fit(x_train,y_train)\n",
    "    classifier,cm,accuracy,report,x_test,y_test=cm_prediction(classifier,x_test)\n",
    "    return classifier,cm,accuracy,report,x_test,y_test"
   ]
  },
  {
   "cell_type": "code",
   "execution_count": 6,
   "id": "98e770a8",
   "metadata": {},
   "outputs": [],
   "source": [
    "def svm_linear(x_train,y_train,x_test):\n",
    "    from sklearn.svm import SVC\n",
    "    classifier=SVC(kernel=\"linear\",random_state=0)\n",
    "    classifier.fit(x_train,y_train)\n",
    "    classifier,cm,accuracy,report,x_test,y_test=cm_prediction(classifier,x_test)\n",
    "    return classifier,cm,accuracy,report,x_test,y_test"
   ]
  },
  {
   "cell_type": "code",
   "execution_count": 7,
   "id": "fad5b21c",
   "metadata": {},
   "outputs": [],
   "source": [
    "def svm_NL(x_train,y_train,x_test):\n",
    "    from sklearn.svm import SVC\n",
    "    classifier=SVC(kernel=\"rbf\",random_state=0)\n",
    "    classifier.fit(x_train,y_train)\n",
    "    classifier,cm,accuracy,report,x_test,y_test=cm_prediction(classifier,x_test)\n",
    "    return classifier,cm,accuracy,report,x_test,y_test"
   ]
  },
  {
   "cell_type": "code",
   "execution_count": 8,
   "id": "51ae403e",
   "metadata": {},
   "outputs": [],
   "source": [
    "def Navie(x_train,y_train,x_test):\n",
    "    from sklearn.Navie_bayes import GaussianNB\n",
    "    classifier=GaussianNB()\n",
    "    classifier.fit(x_train,y_train)\n",
    "    classifier,cm,accuracy,report,x_test,y_test=cm_prediction(classifier,x_test)\n",
    "    return classifier,cm,accuracy,report,x_test,y_test"
   ]
  },
  {
   "cell_type": "code",
   "execution_count": 9,
   "id": "3dbe1700",
   "metadata": {},
   "outputs": [],
   "source": [
    "def KNN(x_train,y_train,x_test):\n",
    "    from sklearn.neighbors import KNeighborsClassifier\n",
    "    classifier=KNeighborsClassifier(n_neighbors=5,metric='minkowski',p=2)\n",
    "    classifier.fit(x_train,y_train)\n",
    "    classifier,cm,accuracy,report,x_test,y_test=cm_prediction(classifier,x_test)\n",
    "    return classifier,cm,accuracy,report,x_test,y_test"
   ]
  },
  {
   "cell_type": "code",
   "execution_count": 10,
   "id": "aa2462b4",
   "metadata": {},
   "outputs": [],
   "source": [
    "def DecisionTree(x_train,y_train,x_test):\n",
    "    from sklearn.tree import DecisionTreeClassifier\n",
    "    classifier=DecisionTreeClassifier(criterion=\"entropy\",random_state=0)\n",
    "    classifier.fit(x_train,y_train)\n",
    "    classifier,cm,accuracy,report,x_test,y_test=cm_prediction(classifier,x_test)\n",
    "    return classifier,cm,accuracy,report,x_test,y_test"
   ]
  },
  {
   "cell_type": "code",
   "execution_count": 11,
   "id": "c826eec2",
   "metadata": {},
   "outputs": [],
   "source": [
    "def RandomForest(x_train,y_train,x_test):\n",
    "    from sklearn.ensemble import RandomForestClassifier\n",
    "    classifier=RandomForestClassifier(n_estimators=10, criterion=\"entropy\",random_state=0)\n",
    "    classifier.fit(x_train,y_train)\n",
    "    classifier,cm,accuracy,report,x_test,y_test=cm_prediction(classifier,x_test)\n",
    "    return classifier,cm,accuracy,report,x_test,y_test"
   ]
  },
  {
   "cell_type": "code",
   "execution_count": 12,
   "id": "65225de8",
   "metadata": {},
   "outputs": [],
   "source": [
    "def selectK_classification(acclog,accsvm1,accsvmn1,accknn,accnav,accdes,accrf):\n",
    "    dataframe=pd.DataFrame(index=[\"chiSquare\"],columns=[\"Logistic\",\"SVM1\",\"SVMn1\",\n",
    "                                                        \"KNN\",\"Navie\",\"Decision\",\"Random\"])\n",
    "    for number,idex in enumerate(dataframe,index):\n",
    "        dataframe[\"Logistic\"][idex]=acclog[number]\n",
    "        dataframe[\"SVM1\"][idex]=accsvm1[number]\n",
    "        dataframe[\"SVMn1\"][idex]=accsvmn1[number]\n",
    "        dataframe[\"KNN\"][idex]=accknn[number]\n",
    "        dataframe[\"Navie\"][idex]=accnav[number]\n",
    "        dataframe[\"Decision\"][idex]=accdes[number]\n",
    "        dataframe[\"Random\"][idex]=accrf[number]\n",
    "    return dataframe    "
   ]
  },
  {
   "cell_type": "code",
   "execution_count": 13,
   "id": "f9d6455a",
   "metadata": {},
   "outputs": [
    {
     "ename": "NameError",
     "evalue": "name 'dataframe' is not defined",
     "output_type": "error",
     "traceback": [
      "\u001b[1;31m---------------------------------------------------------------------------\u001b[0m",
      "\u001b[1;31mNameError\u001b[0m                                 Traceback (most recent call last)",
      "\u001b[1;32m~\\AppData\\Local\\Temp\\ipykernel_5284\\3879592686.py\u001b[0m in \u001b[0;36m<module>\u001b[1;34m\u001b[0m\n\u001b[1;32m----> 1\u001b[1;33m \u001b[0mdataframe\u001b[0m\u001b[1;33m\u001b[0m\u001b[1;33m\u001b[0m\u001b[0m\n\u001b[0m",
      "\u001b[1;31mNameError\u001b[0m: name 'dataframe' is not defined"
     ]
    }
   ],
   "source": [
    "dataframe"
   ]
  },
  {
   "cell_type": "code",
   "execution_count": null,
   "id": "433d98ab",
   "metadata": {},
   "outputs": [],
   "source": [
    "dataset1=pd.read_csv(\"prep.csv\",index_col=None)\n",
    "df2=dataset1\n",
    "df2=pd.get_dummies(df2,drop_first=True)\n",
    "indep_x=df2.drop(\"classification_yes\",1)\n",
    "dep_y=df2[\"classification_yes\"]"
   ]
  },
  {
   "cell_type": "code",
   "execution_count": null,
   "id": "7bbd9c03",
   "metadata": {},
   "outputs": [],
   "source": [
    "df2"
   ]
  },
  {
   "cell_type": "code",
   "execution_count": null,
   "id": "b36fe047",
   "metadata": {},
   "outputs": [],
   "source": [
    "kbest=selectkbest(indep_x,dep_y,5)\n",
    "acclog=[]\n",
    "accsvm1=[]\n",
    "accsvmn1=[]\n",
    "accknn=[]\n",
    "accnav=[]\n",
    "accdes=[]\n",
    "accrf=[]"
   ]
  },
  {
   "cell_type": "code",
   "execution_count": null,
   "id": "19262520",
   "metadata": {},
   "outputs": [],
   "source": [
    "x_train,x_test,y_train,y_test=split_scalar(kbest,dep_y)\n",
    "\n",
    "classifier,accuracy,report,x_test,y_test,cm=logistic(x_train,y_train,x_test)\n",
    "acclog.append(accuracy)\n",
    "\n",
    "classifier,accuracy,report,x_test,y_test,cm=svm_linear(x_train,y_train,x_test)\n",
    "accsvm1.append(accuracy)\n",
    "\n",
    "classifier,accuracy,report,x_test,y_test,cm=svm_NL(x_train,y_train,x_test)\n",
    "accsvmn1.append(accuracy)\n",
    "\n",
    "classifier,accuracy,report,x_test,y_test,cm=knn(x_train,y_train,x_test)\n",
    "accknn.append(accuracy)\n",
    "\n",
    "classifier,accuracy,report,x_test,y_test,cm=Navie(x_train,y_train,x_test)\n",
    "accnav.append(accuracy)\n",
    "\n",
    "classifier,accuracy,report,x_test,y_test,cm=Decision(x_train,y_train,x_test)\n",
    "accdes.append(accuracy)\n",
    "\n",
    "classifier,accuracy,report,x_test,y_test,cm=random(x_train,y_train,x_test)\n",
    "accrf.append(accuracy)\n",
    "\n",
    "result=selectK_classification(acclog,accsvm1,accsvmn1,accknn,accnav,accdes,accrf)\n",
    "\n",
    "result\n"
   ]
  },
  {
   "cell_type": "code",
   "execution_count": null,
   "id": "33a4329c",
   "metadata": {},
   "outputs": [],
   "source": []
  }
 ],
 "metadata": {
  "kernelspec": {
   "display_name": "Python 3 (ipykernel)",
   "language": "python",
   "name": "python3"
  },
  "language_info": {
   "codemirror_mode": {
    "name": "ipython",
    "version": 3
   },
   "file_extension": ".py",
   "mimetype": "text/x-python",
   "name": "python",
   "nbconvert_exporter": "python",
   "pygments_lexer": "ipython3",
   "version": "3.7.6"
  }
 },
 "nbformat": 4,
 "nbformat_minor": 5
}

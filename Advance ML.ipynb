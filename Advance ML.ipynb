{
 "cells": [
  {
   "cell_type": "code",
   "execution_count": 16,
   "id": "d98cfed3",
   "metadata": {},
   "outputs": [],
   "source": [
    "import pandas as pd\n",
    "import numpy as np\n",
    "import time\n",
    "import pickle\n",
    "import matplotlib.pyplot as plt\n",
    "from sklearn.model_selection import train_test_split\n",
    "from sklearn.preprocessing import StandardScaler\n",
    "from sklearn.feature_selection import SelectKBest\n",
    "from sklearn.feature_selection import chi2\n",
    "from sklearn.feature_selection import RFE\n",
    "from sklearn.linear_model import LogisticRegression\n"
   ]
  },
  {
   "cell_type": "code",
   "execution_count": 17,
   "id": "e6b48a38",
   "metadata": {},
   "outputs": [],
   "source": [
    "def selectkbest(indep_x,dep_y,n):\n",
    "    test=SelectKBest(score_func=chi2,k=n)\n",
    "    fit1=test.fit(indep_x,dep_y,n)\n",
    "    selectk_features=fit1.transform(indep_x)\n",
    "    return selectk_features\n",
    "    "
   ]
  },
  {
   "cell_type": "code",
   "execution_count": 18,
   "id": "469d7995",
   "metadata": {},
   "outputs": [],
   "source": [
    "def split_scalar(indep_x,dep_y):\n",
    "    x_train,x_test,y_train,y_test=train_test_split(indep_x,dep_y,test_size=0.25,random_state=0)\n",
    "    sc=StandardScalar()\n",
    "    x_train=sc.fit_transform(x_train)\n",
    "    x_test=sc.transform(x_test)\n",
    "    return x_train,x_test,y_train,y_test\n"
   ]
  },
  {
   "cell_type": "code",
   "execution_count": 19,
   "id": "11393c14",
   "metadata": {},
   "outputs": [],
   "source": [
    "def cm_prediction(classifier,x_test):\n",
    "    y_pred=classifier.predict(x_test)\n",
    "#Making confusion matrix\n",
    "    from sklearn.metrics import confusion_matrix\n",
    "    cm=confusion_matrix(y_pred,y_test)\n",
    "    from sklearn.metrics import accuracy_score\n",
    "    from sklearn.metrics import classification_report\n",
    "    accuracy=accuracy_score(y_pred,y_test)\n",
    "    report=classification_report(y_pred,y_test)\n",
    "    return classifier,cm,accuracy,report,x_test,y_test"
   ]
  },
  {
   "cell_type": "code",
   "execution_count": 20,
   "id": "d8fbc45a",
   "metadata": {},
   "outputs": [],
   "source": [
    "def logistic(x_train,y_train,x_test):\n",
    "    from sklearn.linear_model import LogisticRegression\n",
    "    classifier=LogisticRegression(random_state=0)\n",
    "    classifier.fit(x_train,y_train)\n",
    "    classifier,cm,accuracy,report,x_test,y_test=cm_prediction(classifier,x_test)\n",
    "    return classifier,cm,accuracy,report,x_test,y_test"
   ]
  },
  {
   "cell_type": "code",
   "execution_count": 21,
   "id": "98e770a8",
   "metadata": {},
   "outputs": [],
   "source": [
    "def svm_linear(x_train,y_train,x_test):\n",
    "    from sklearn.svm import SVC\n",
    "    classifier=SVC(kernal=\"linear\",random_state=0)\n",
    "    classifier.fit(x_train,y_train)\n",
    "    classifier,cm,accuracy,report,x_test,y_test=cm_prediction(classifier,x_test)\n",
    "    return classifier,cm,accuracy,report,x_test,y_test"
   ]
  },
  {
   "cell_type": "code",
   "execution_count": 22,
   "id": "fad5b21c",
   "metadata": {},
   "outputs": [],
   "source": [
    "def svm_NL(x_train,y_train,x_test):\n",
    "    from sklearn.svm import SVC\n",
    "    classifier=SVC(kernal=\"rbf\",random_state=0)\n",
    "    classifier.fit(x_train,y_train)\n",
    "    classifier,cm,accuracy,report,x_test,y_test=cm_prediction(classifier,x_test)\n",
    "    return classifier,cm,accuracy,report,x_test,y_test"
   ]
  },
  {
   "cell_type": "code",
   "execution_count": 23,
   "id": "51ae403e",
   "metadata": {},
   "outputs": [],
   "source": [
    "def Navie(x_train,y_train,x_test):\n",
    "    from sklearn.Navie_bayes import GaussianNB\n",
    "    classifier=GaussianNB()\n",
    "    classifier.fit(x_train,y_train)\n",
    "    classifier,cm,accuracy,report,x_test,y_test=cm_prediction(classifier,x_test)\n",
    "    return classifier,cm,accuracy,report,x_test,y_test"
   ]
  },
  {
   "cell_type": "code",
   "execution_count": 24,
   "id": "3dbe1700",
   "metadata": {},
   "outputs": [],
   "source": [
    "def KNN(x_train,y_train,x_test):\n",
    "    from sklearn.neighbors import KNeighborsClassifier\n",
    "    classifier=KNeighborsClassifier(n_neighbors=5,metric='minkowski',p=2)\n",
    "    classifier.fit(x_train,y_train)\n",
    "    classifier,cm,accuracy,report,x_test,y_test=cm_prediction(classifier,x_test)\n",
    "    return classifier,cm,accuracy,report,x_test,y_test"
   ]
  },
  {
   "cell_type": "code",
   "execution_count": 25,
   "id": "aa2462b4",
   "metadata": {},
   "outputs": [],
   "source": [
    "def DecisionTree(x_train,y_train,x_test):\n",
    "    from sklearn.tree import DecisionTreeClassifier\n",
    "    classifier=DecisionTreeClassifier(criterion=\"entropy\",random_state=0)\n",
    "    classifier.fit(x_train,y_train)\n",
    "    classifier,cm,accuracy,report,x_test,y_test=cm_prediction(classifier,x_test)\n",
    "    return classifier,cm,accuracy,report,x_test,y_test"
   ]
  },
  {
   "cell_type": "code",
   "execution_count": 26,
   "id": "c826eec2",
   "metadata": {},
   "outputs": [],
   "source": [
    "def RandomForest(x_train,y_train,x_test):\n",
    "    from sklearn.ensemble import RandomForestClassifier\n",
    "    classifier=RandomForestClassifier(n_estimators=10, criterion=\"entropy\",random_state=0)\n",
    "    classifier.fit(x_train,y_train)\n",
    "    classifier,cm,accuracy,report,x_test,y_test=cm_prediction(classifier,x_test)\n",
    "    return classifier,cm,accuracy,report,x_test,y_test"
   ]
  },
  {
   "cell_type": "code",
   "execution_count": 27,
   "id": "65225de8",
   "metadata": {},
   "outputs": [],
   "source": [
    "def selectK_classification(acclog,accsvm1,accsvmn1,accknn,accnav,accdes,accrf):\n",
    "    dataframe=pd.DataFrame(index=[\"chiSquare\"],columns=[\"Logistic\",\"SVM1\",\"SVMn1\",\n",
    "                                                        \"KNN\",\"Navie\",\"Decision\",\"Random\"])\n",
    "    for number,idex in enumerate(dataframe,index):\n",
    "        dataframe[\"Logistic\"][idex]=acclog[number]\n",
    "        dataframe[\"SVM1\"][idex]=accsvm1[number]\n",
    "        dataframe[\"SVMn1\"][idex]=accsvmn1[number]\n",
    "        dataframe[\"KNN\"][idex]=accknn[number]\n",
    "        dataframe[\"Navie\"][idex]=accnav[number]\n",
    "        dataframe[\"Decision\"][idex]=accdes[number]\n",
    "        dataframe[\"Random\"][idex]=accrf[number]\n",
    "    return dataframe    "
   ]
  },
  {
   "cell_type": "code",
   "execution_count": 30,
   "id": "433d98ab",
   "metadata": {},
   "outputs": [
    {
     "ename": "TypeError",
     "evalue": "fit() takes 3 positional arguments but 4 were given",
     "output_type": "error",
     "traceback": [
      "\u001b[1;31m---------------------------------------------------------------------------\u001b[0m",
      "\u001b[1;31mTypeError\u001b[0m                                 Traceback (most recent call last)",
      "\u001b[1;32m~\\AppData\\Local\\Temp\\ipykernel_4196\\3558486694.py\u001b[0m in \u001b[0;36m<module>\u001b[1;34m\u001b[0m\n\u001b[0;32m      4\u001b[0m \u001b[0mindep_x\u001b[0m\u001b[1;33m=\u001b[0m\u001b[0mdf2\u001b[0m\u001b[1;33m.\u001b[0m\u001b[0mdrop\u001b[0m\u001b[1;33m(\u001b[0m\u001b[1;34m\"classification_yes\"\u001b[0m\u001b[1;33m,\u001b[0m\u001b[1;36m1\u001b[0m\u001b[1;33m)\u001b[0m\u001b[1;33m\u001b[0m\u001b[1;33m\u001b[0m\u001b[0m\n\u001b[0;32m      5\u001b[0m \u001b[0mdep_y\u001b[0m\u001b[1;33m=\u001b[0m\u001b[0mdf2\u001b[0m\u001b[1;33m[\u001b[0m\u001b[1;34m\"classification_yes\"\u001b[0m\u001b[1;33m]\u001b[0m\u001b[1;33m\u001b[0m\u001b[1;33m\u001b[0m\u001b[0m\n\u001b[1;32m----> 6\u001b[1;33m \u001b[0mkbest\u001b[0m\u001b[1;33m=\u001b[0m\u001b[0mselectkbest\u001b[0m\u001b[1;33m(\u001b[0m\u001b[0mindep_x\u001b[0m\u001b[1;33m,\u001b[0m\u001b[0mdep_y\u001b[0m\u001b[1;33m,\u001b[0m\u001b[1;36m2\u001b[0m\u001b[1;33m)\u001b[0m\u001b[1;33m\u001b[0m\u001b[1;33m\u001b[0m\u001b[0m\n\u001b[0m",
      "\u001b[1;32m~\\AppData\\Local\\Temp\\ipykernel_4196\\2082411577.py\u001b[0m in \u001b[0;36mselectkbest\u001b[1;34m(indep_x, dep_y, n)\u001b[0m\n\u001b[0;32m      1\u001b[0m \u001b[1;32mdef\u001b[0m \u001b[0mselectkbest\u001b[0m\u001b[1;33m(\u001b[0m\u001b[0mindep_x\u001b[0m\u001b[1;33m,\u001b[0m\u001b[0mdep_y\u001b[0m\u001b[1;33m,\u001b[0m\u001b[0mn\u001b[0m\u001b[1;33m)\u001b[0m\u001b[1;33m:\u001b[0m\u001b[1;33m\u001b[0m\u001b[1;33m\u001b[0m\u001b[0m\n\u001b[0;32m      2\u001b[0m     \u001b[0mtest\u001b[0m\u001b[1;33m=\u001b[0m\u001b[0mSelectKBest\u001b[0m\u001b[1;33m(\u001b[0m\u001b[0mscore_func\u001b[0m\u001b[1;33m=\u001b[0m\u001b[0mchi2\u001b[0m\u001b[1;33m,\u001b[0m\u001b[0mk\u001b[0m\u001b[1;33m=\u001b[0m\u001b[0mn\u001b[0m\u001b[1;33m)\u001b[0m\u001b[1;33m\u001b[0m\u001b[1;33m\u001b[0m\u001b[0m\n\u001b[1;32m----> 3\u001b[1;33m     \u001b[0mfit1\u001b[0m\u001b[1;33m=\u001b[0m\u001b[0mtest\u001b[0m\u001b[1;33m.\u001b[0m\u001b[0mfit\u001b[0m\u001b[1;33m(\u001b[0m\u001b[0mindep_x\u001b[0m\u001b[1;33m,\u001b[0m\u001b[0mdep_y\u001b[0m\u001b[1;33m,\u001b[0m\u001b[0mn\u001b[0m\u001b[1;33m)\u001b[0m\u001b[1;33m\u001b[0m\u001b[1;33m\u001b[0m\u001b[0m\n\u001b[0m\u001b[0;32m      4\u001b[0m     \u001b[0mselectk_features\u001b[0m\u001b[1;33m=\u001b[0m\u001b[0mfit1\u001b[0m\u001b[1;33m.\u001b[0m\u001b[0mtransform\u001b[0m\u001b[1;33m(\u001b[0m\u001b[0mindep_x\u001b[0m\u001b[1;33m)\u001b[0m\u001b[1;33m\u001b[0m\u001b[1;33m\u001b[0m\u001b[0m\n\u001b[0;32m      5\u001b[0m     \u001b[1;32mreturn\u001b[0m \u001b[0mselectk_features\u001b[0m\u001b[1;33m\u001b[0m\u001b[1;33m\u001b[0m\u001b[0m\n",
      "\u001b[1;31mTypeError\u001b[0m: fit() takes 3 positional arguments but 4 were given"
     ]
    }
   ],
   "source": [
    "dataset1=pd.read_csv(\"prep.csv\",index_col=None)\n",
    "df2=dataset1\n",
    "df2=pd.get_dummies(df2,drop_first=True)\n",
    "indep_x=df2.drop(\"classification_yes\",1)\n",
    "dep_y=df2[\"classification_yes\"]\n",
    "kbest=selectkbest(indep_x,dep_y,5)\n"
   ]
  },
  {
   "cell_type": "code",
   "execution_count": null,
   "id": "b36fe047",
   "metadata": {},
   "outputs": [],
   "source": []
  }
 ],
 "metadata": {
  "kernelspec": {
   "display_name": "Python 3 (ipykernel)",
   "language": "python",
   "name": "python3"
  },
  "language_info": {
   "codemirror_mode": {
    "name": "ipython",
    "version": 3
   },
   "file_extension": ".py",
   "mimetype": "text/x-python",
   "name": "python",
   "nbconvert_exporter": "python",
   "pygments_lexer": "ipython3",
   "version": "3.7.6"
  }
 },
 "nbformat": 4,
 "nbformat_minor": 5
}

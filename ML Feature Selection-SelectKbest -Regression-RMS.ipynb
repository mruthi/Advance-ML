{
 "cells": [
  {
   "cell_type": "code",
   "execution_count": 32,
   "id": "076f3b2f",
   "metadata": {},
   "outputs": [],
   "source": [
    "import pandas as pd\n",
    "import numpy as np\n",
    "import time\n",
    "import pickle\n",
    "import matplotlib.pyplot as plt\n",
    "from sklearn.model_selection import train_test_split\n",
    "from sklearn.preprocessing import StandardScaler\n",
    "from sklearn.feature_selection import SelectKBest\n",
    "from sklearn.feature_selection import chi2\n",
    "from sklearn.feature_selection import RFE\n",
    "from sklearn.feature_selection import f_regression\n",
    "from sklearn.linear_model import LogisticRegression\n",
    "from sklearn.metrics import mean_squared_error\n",
    "import pandas as pd"
   ]
  },
  {
   "cell_type": "code",
   "execution_count": 33,
   "id": "435f768f",
   "metadata": {},
   "outputs": [],
   "source": [
    "def selectkbest(indep_x,dep_y,n):\n",
    "    test=SelectKBest(score_func=f_regression, k=n)\n",
    "    fit1=test.fit(indep_x,dep_y)\n",
    "    selectk_features=fit1.transform(indep_x)\n",
    "    return selectk_features\n",
    "    \n",
    "def split_scalar(indep_x,dep_y):\n",
    "    x_train,x_test,y_train,y_test=train_test_split(indep_x,dep_y,test_size=0.25,random_state=0)\n",
    "    sc=StandardScaler()\n",
    "    x_train=sc.fit_transform(x_train)\n",
    "    x_test=sc.transform(x_test)\n",
    "    return x_train,x_test,y_train,y_test\n",
    "\n",
    "def R2_prediction(regressor,x_test,y_test):\n",
    "    y_pred=regressor.predict(x_test)\n",
    "#Making R score \n",
    "    from sklearn.metrics import r2_score\n",
    "    r_score=r2_score(y_test,y_pred)\n",
    "    return r_score\n",
    "\n",
    "def linear(x_train,y_train,x_test):\n",
    "    from sklearn.linear_model import LinearRegression\n",
    "    regressor=LinearRegression()\n",
    "    regressor.fit(x_train,y_train)\n",
    "    r_score=R2_prediction(regressor,x_test,y_test)\n",
    "    return r_score\n",
    "\n",
    "def svm_linear(x_train,y_train,x_test):\n",
    "    from sklearn.svm import SVR\n",
    "    regressor=SVR(kernel=\"linear\")\n",
    "    regressor.fit(x_train,y_train)\n",
    "    r_score=R2_prediction(regressor,x_test,y_test)\n",
    "    return r_score\n",
    "\n",
    "def svm_NL(x_train,y_train,x_test):\n",
    "    from sklearn.svm import SVR\n",
    "    regressor=SVR(kernel=\"rbf\")\n",
    "    regressor.fit(x_train,y_train)\n",
    "    r_score=R2_prediction(regressor,x_test,y_test)\n",
    "    return r_score\n",
    "\n",
    "def DecisionTree(x_train,y_train,x_test):\n",
    "    from sklearn.tree import DecisionTreeRegressor\n",
    "    regressor=DecisionTreeRegressor(random_state=0)\n",
    "    regressor.fit(x_train,y_train)\n",
    "    r_score=R2_prediction(regressor,x_test,y_test)\n",
    "    return r_score\n",
    "\n",
    "def RandomForest(x_train,y_train,x_test):\n",
    "    from sklearn.ensemble import RandomForestRegressor\n",
    "    regressor=RandomForestRegressor(n_estimators=10,random_state=0)\n",
    "    regressor.fit(x_train,y_train)\n",
    "    r_score=R2_prediction(regressor,x_test,y_test)\n",
    "    return r_score"
   ]
  },
  {
   "cell_type": "code",
   "execution_count": 34,
   "id": "2274a2f1",
   "metadata": {},
   "outputs": [],
   "source": [
    "def selectK_Regression(acclin,accsvml,accsvmnl,accdes,accrf):\n",
    "    dataframe=pd.DataFrame(index=[\"RMS\"],columns=[\"Linear\",\"SVMl\",\"SVMnl\",\"Decision\",\"Random\"])\n",
    "    for number,idex in enumerate(dataframe.index):\n",
    "        dataframe[\"Linear\"][idex]=acclin[number]\n",
    "        dataframe[\"SVMl\"][idex]=accsvml[number]\n",
    "        dataframe[\"SVMnl\"][idex]=accsvmnl[number]\n",
    "        dataframe[\"Decision\"][idex]=accdes[number]\n",
    "        dataframe[\"Random\"][idex]=accrf[number]\n",
    "    return dataframe    "
   ]
  },
  {
   "cell_type": "code",
   "execution_count": 35,
   "id": "1eb08fcb",
   "metadata": {},
   "outputs": [],
   "source": [
    "dataset1=pd.read_csv(\"prep.csv\",index_col=None)\n",
    "df2=dataset1\n",
    "df=pd.get_dummies(df2,drop_first=True)\n",
    "indep_x=df.drop(\"classification_yes\",axis=1)\n",
    "dep_y=df[\"classification_yes\"]"
   ]
  },
  {
   "cell_type": "code",
   "execution_count": 42,
   "id": "27cf66b0",
   "metadata": {},
   "outputs": [],
   "source": [
    "kbest=selectkbest(indep_x,dep_y,6)\n",
    "acclin=[]\n",
    "accsvml=[]\n",
    "accsvmnl=[]\n",
    "accdes=[]\n",
    "accrf=[]"
   ]
  },
  {
   "cell_type": "code",
   "execution_count": 43,
   "id": "cf765bdb",
   "metadata": {},
   "outputs": [
    {
     "name": "stderr",
     "output_type": "stream",
     "text": [
      "C:\\Users\\saran\\anaconda3\\envs\\AI\\lib\\site-packages\\sklearn\\utils\\fixes.py:230: DeprecationWarning: distutils Version classes are deprecated. Use packaging.version instead.\n",
      "  if _joblib.__version__ >= LooseVersion('0.12'):\n",
      "C:\\Users\\saran\\anaconda3\\envs\\AI\\lib\\site-packages\\sklearn\\utils\\fixes.py:230: DeprecationWarning: distutils Version classes are deprecated. Use packaging.version instead.\n",
      "  if _joblib.__version__ >= LooseVersion('0.12'):\n"
     ]
    }
   ],
   "source": [
    "x_train,x_test,y_train,y_test=split_scalar(kbest,dep_y)\n",
    "\n",
    "r_lin=linear(x_train,y_train,x_test)\n",
    "acclin.append(r_lin)\n",
    "\n",
    "r_svmnl=svm_linear(x_train,y_train,x_test)\n",
    "accsvml.append(r_svmnl)\n",
    "\n",
    "r_svmnl=svm_NL(x_train,y_train,x_test)\n",
    "accsvmnl.append(r_svmnl)\n",
    "\n",
    "r_d=DecisionTree(x_train,y_train,x_test)\n",
    "accdes.append(r_d)\n",
    "\n",
    "r_rf=RandomForest(x_train,y_train,x_test)\n",
    "accrf.append(r_rf)\n",
    "\n",
    "result=selectK_Regression(acclin,accsvml,accsvmnl,accdes,accrf)\n"
   ]
  },
  {
   "cell_type": "code",
   "execution_count": 7,
   "id": "61f9f1b4",
   "metadata": {},
   "outputs": [
    {
     "data": {
      "text/html": [
       "<div>\n",
       "<style scoped>\n",
       "    .dataframe tbody tr th:only-of-type {\n",
       "        vertical-align: middle;\n",
       "    }\n",
       "\n",
       "    .dataframe tbody tr th {\n",
       "        vertical-align: top;\n",
       "    }\n",
       "\n",
       "    .dataframe thead th {\n",
       "        text-align: right;\n",
       "    }\n",
       "</style>\n",
       "<table border=\"1\" class=\"dataframe\">\n",
       "  <thead>\n",
       "    <tr style=\"text-align: right;\">\n",
       "      <th></th>\n",
       "      <th>Linear</th>\n",
       "      <th>SVMl</th>\n",
       "      <th>SVMnl</th>\n",
       "      <th>Decision</th>\n",
       "      <th>Random</th>\n",
       "    </tr>\n",
       "  </thead>\n",
       "  <tbody>\n",
       "    <tr>\n",
       "      <th>RMS</th>\n",
       "      <td>0.570346</td>\n",
       "      <td>0.548774</td>\n",
       "      <td>0.721483</td>\n",
       "      <td>0.652778</td>\n",
       "      <td>0.652778</td>\n",
       "    </tr>\n",
       "  </tbody>\n",
       "</table>\n",
       "</div>"
      ],
      "text/plain": [
       "       Linear      SVMl     SVMnl  Decision    Random\n",
       "RMS  0.570346  0.548774  0.721483  0.652778  0.652778"
      ]
     },
     "execution_count": 7,
     "metadata": {},
     "output_type": "execute_result"
    }
   ],
   "source": [
    "result\n",
    "#2"
   ]
  },
  {
   "cell_type": "code",
   "execution_count": 10,
   "id": "2f09eebe",
   "metadata": {},
   "outputs": [
    {
     "data": {
      "text/html": [
       "<div>\n",
       "<style scoped>\n",
       "    .dataframe tbody tr th:only-of-type {\n",
       "        vertical-align: middle;\n",
       "    }\n",
       "\n",
       "    .dataframe tbody tr th {\n",
       "        vertical-align: top;\n",
       "    }\n",
       "\n",
       "    .dataframe thead th {\n",
       "        text-align: right;\n",
       "    }\n",
       "</style>\n",
       "<table border=\"1\" class=\"dataframe\">\n",
       "  <thead>\n",
       "    <tr style=\"text-align: right;\">\n",
       "      <th></th>\n",
       "      <th>Linear</th>\n",
       "      <th>SVMl</th>\n",
       "      <th>SVMnl</th>\n",
       "      <th>Decision</th>\n",
       "      <th>Random</th>\n",
       "    </tr>\n",
       "  </thead>\n",
       "  <tbody>\n",
       "    <tr>\n",
       "      <th>RMS</th>\n",
       "      <td>0.574456</td>\n",
       "      <td>0.551214</td>\n",
       "      <td>0.732607</td>\n",
       "      <td>0.565972</td>\n",
       "      <td>0.652778</td>\n",
       "    </tr>\n",
       "  </tbody>\n",
       "</table>\n",
       "</div>"
      ],
      "text/plain": [
       "       Linear      SVMl     SVMnl  Decision    Random\n",
       "RMS  0.574456  0.551214  0.732607  0.565972  0.652778"
      ]
     },
     "execution_count": 10,
     "metadata": {},
     "output_type": "execute_result"
    }
   ],
   "source": [
    "result\n",
    "#3"
   ]
  },
  {
   "cell_type": "code",
   "execution_count": 13,
   "id": "86dea917",
   "metadata": {},
   "outputs": [
    {
     "data": {
      "text/html": [
       "<div>\n",
       "<style scoped>\n",
       "    .dataframe tbody tr th:only-of-type {\n",
       "        vertical-align: middle;\n",
       "    }\n",
       "\n",
       "    .dataframe tbody tr th {\n",
       "        vertical-align: top;\n",
       "    }\n",
       "\n",
       "    .dataframe thead th {\n",
       "        text-align: right;\n",
       "    }\n",
       "</style>\n",
       "<table border=\"1\" class=\"dataframe\">\n",
       "  <thead>\n",
       "    <tr style=\"text-align: right;\">\n",
       "      <th></th>\n",
       "      <th>Linear</th>\n",
       "      <th>SVMl</th>\n",
       "      <th>SVMnl</th>\n",
       "      <th>Decision</th>\n",
       "      <th>Random</th>\n",
       "    </tr>\n",
       "  </thead>\n",
       "  <tbody>\n",
       "    <tr>\n",
       "      <th>RMS</th>\n",
       "      <td>0.591468</td>\n",
       "      <td>0.530394</td>\n",
       "      <td>0.809078</td>\n",
       "      <td>0.609375</td>\n",
       "      <td>0.782986</td>\n",
       "    </tr>\n",
       "  </tbody>\n",
       "</table>\n",
       "</div>"
      ],
      "text/plain": [
       "       Linear      SVMl     SVMnl  Decision    Random\n",
       "RMS  0.591468  0.530394  0.809078  0.609375  0.782986"
      ]
     },
     "execution_count": 13,
     "metadata": {},
     "output_type": "execute_result"
    }
   ],
   "source": [
    "result\n",
    "#4"
   ]
  },
  {
   "cell_type": "code",
   "execution_count": 16,
   "id": "02aa2394",
   "metadata": {},
   "outputs": [
    {
     "data": {
      "text/html": [
       "<div>\n",
       "<style scoped>\n",
       "    .dataframe tbody tr th:only-of-type {\n",
       "        vertical-align: middle;\n",
       "    }\n",
       "\n",
       "    .dataframe tbody tr th {\n",
       "        vertical-align: top;\n",
       "    }\n",
       "\n",
       "    .dataframe thead th {\n",
       "        text-align: right;\n",
       "    }\n",
       "</style>\n",
       "<table border=\"1\" class=\"dataframe\">\n",
       "  <thead>\n",
       "    <tr style=\"text-align: right;\">\n",
       "      <th></th>\n",
       "      <th>Linear</th>\n",
       "      <th>SVMl</th>\n",
       "      <th>SVMnl</th>\n",
       "      <th>Decision</th>\n",
       "      <th>Random</th>\n",
       "    </tr>\n",
       "  </thead>\n",
       "  <tbody>\n",
       "    <tr>\n",
       "      <th>RMS</th>\n",
       "      <td>0.597934</td>\n",
       "      <td>0.520226</td>\n",
       "      <td>0.852038</td>\n",
       "      <td>0.652778</td>\n",
       "      <td>0.826389</td>\n",
       "    </tr>\n",
       "  </tbody>\n",
       "</table>\n",
       "</div>"
      ],
      "text/plain": [
       "       Linear      SVMl     SVMnl  Decision    Random\n",
       "RMS  0.597934  0.520226  0.852038  0.652778  0.826389"
      ]
     },
     "execution_count": 16,
     "metadata": {},
     "output_type": "execute_result"
    }
   ],
   "source": [
    "result\n",
    "#5"
   ]
  },
  {
   "cell_type": "code",
   "execution_count": 44,
   "id": "d47a610c",
   "metadata": {},
   "outputs": [
    {
     "data": {
      "text/html": [
       "<div>\n",
       "<style scoped>\n",
       "    .dataframe tbody tr th:only-of-type {\n",
       "        vertical-align: middle;\n",
       "    }\n",
       "\n",
       "    .dataframe tbody tr th {\n",
       "        vertical-align: top;\n",
       "    }\n",
       "\n",
       "    .dataframe thead th {\n",
       "        text-align: right;\n",
       "    }\n",
       "</style>\n",
       "<table border=\"1\" class=\"dataframe\">\n",
       "  <thead>\n",
       "    <tr style=\"text-align: right;\">\n",
       "      <th></th>\n",
       "      <th>Linear</th>\n",
       "      <th>SVMl</th>\n",
       "      <th>SVMnl</th>\n",
       "      <th>Decision</th>\n",
       "      <th>Random</th>\n",
       "    </tr>\n",
       "  </thead>\n",
       "  <tbody>\n",
       "    <tr>\n",
       "      <th>RMS</th>\n",
       "      <td>0.64199</td>\n",
       "      <td>0.596767</td>\n",
       "      <td>0.928563</td>\n",
       "      <td>0.751736</td>\n",
       "      <td>0.885261</td>\n",
       "    </tr>\n",
       "  </tbody>\n",
       "</table>\n",
       "</div>"
      ],
      "text/plain": [
       "      Linear      SVMl     SVMnl  Decision    Random\n",
       "RMS  0.64199  0.596767  0.928563  0.751736  0.885261"
      ]
     },
     "execution_count": 44,
     "metadata": {},
     "output_type": "execute_result"
    }
   ],
   "source": [
    "result\n",
    "#6"
   ]
  },
  {
   "cell_type": "code",
   "execution_count": 41,
   "id": "8b5ca053",
   "metadata": {},
   "outputs": [
    {
     "data": {
      "text/html": [
       "<div>\n",
       "<style scoped>\n",
       "    .dataframe tbody tr th:only-of-type {\n",
       "        vertical-align: middle;\n",
       "    }\n",
       "\n",
       "    .dataframe tbody tr th {\n",
       "        vertical-align: top;\n",
       "    }\n",
       "\n",
       "    .dataframe thead th {\n",
       "        text-align: right;\n",
       "    }\n",
       "</style>\n",
       "<table border=\"1\" class=\"dataframe\">\n",
       "  <thead>\n",
       "    <tr style=\"text-align: right;\">\n",
       "      <th></th>\n",
       "      <th>Linear</th>\n",
       "      <th>SVMl</th>\n",
       "      <th>SVMnl</th>\n",
       "      <th>Decision</th>\n",
       "      <th>Random</th>\n",
       "    </tr>\n",
       "  </thead>\n",
       "  <tbody>\n",
       "    <tr>\n",
       "      <th>RMS</th>\n",
       "      <td>0.663447</td>\n",
       "      <td>0.643811</td>\n",
       "      <td>0.924383</td>\n",
       "      <td>0.795139</td>\n",
       "      <td>0.879138</td>\n",
       "    </tr>\n",
       "  </tbody>\n",
       "</table>\n",
       "</div>"
      ],
      "text/plain": [
       "       Linear      SVMl     SVMnl  Decision    Random\n",
       "RMS  0.663447  0.643811  0.924383  0.795139  0.879138"
      ]
     },
     "execution_count": 41,
     "metadata": {},
     "output_type": "execute_result"
    }
   ],
   "source": [
    "result\n",
    "#7"
   ]
  },
  {
   "cell_type": "code",
   "execution_count": 38,
   "id": "909b5288",
   "metadata": {},
   "outputs": [
    {
     "data": {
      "text/html": [
       "<div>\n",
       "<style scoped>\n",
       "    .dataframe tbody tr th:only-of-type {\n",
       "        vertical-align: middle;\n",
       "    }\n",
       "\n",
       "    .dataframe tbody tr th {\n",
       "        vertical-align: top;\n",
       "    }\n",
       "\n",
       "    .dataframe thead th {\n",
       "        text-align: right;\n",
       "    }\n",
       "</style>\n",
       "<table border=\"1\" class=\"dataframe\">\n",
       "  <thead>\n",
       "    <tr style=\"text-align: right;\">\n",
       "      <th></th>\n",
       "      <th>Linear</th>\n",
       "      <th>SVMl</th>\n",
       "      <th>SVMnl</th>\n",
       "      <th>Decision</th>\n",
       "      <th>Random</th>\n",
       "    </tr>\n",
       "  </thead>\n",
       "  <tbody>\n",
       "    <tr>\n",
       "      <th>RMS</th>\n",
       "      <td>0.663763</td>\n",
       "      <td>0.642502</td>\n",
       "      <td>0.927882</td>\n",
       "      <td>0.739583</td>\n",
       "      <td>0.857639</td>\n",
       "    </tr>\n",
       "  </tbody>\n",
       "</table>\n",
       "</div>"
      ],
      "text/plain": [
       "       Linear      SVMl     SVMnl  Decision    Random\n",
       "RMS  0.663763  0.642502  0.927882  0.739583  0.857639"
      ]
     },
     "execution_count": 38,
     "metadata": {},
     "output_type": "execute_result"
    }
   ],
   "source": [
    "result\n",
    "#8"
   ]
  },
  {
   "cell_type": "code",
   "execution_count": null,
   "id": "c288aaeb",
   "metadata": {},
   "outputs": [],
   "source": []
  }
 ],
 "metadata": {
  "kernelspec": {
   "display_name": "Python 3 (ipykernel)",
   "language": "python",
   "name": "python3"
  },
  "language_info": {
   "codemirror_mode": {
    "name": "ipython",
    "version": 3
   },
   "file_extension": ".py",
   "mimetype": "text/x-python",
   "name": "python",
   "nbconvert_exporter": "python",
   "pygments_lexer": "ipython3",
   "version": "3.7.4"
  }
 },
 "nbformat": 4,
 "nbformat_minor": 5
}

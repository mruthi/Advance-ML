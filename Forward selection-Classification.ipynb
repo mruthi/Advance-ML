{
 "cells": [
  {
   "cell_type": "markdown",
   "id": "2b5e7178-e19b-4198-946a-9e6e967ef7b9",
   "metadata": {},
   "source": [
    "                                    Forward Selection"
   ]
  },
  {
   "cell_type": "markdown",
   "id": "ae25ee0f-021d-4607-b2e4-5706efc0f2ba",
   "metadata": {},
   "source": [
    "Forward selection is an iterative method where features are added to the model one at a time, starting with the most significant or promising feature, and continuing until a stopping criterion is met."
   ]
  },
  {
   "cell_type": "code",
   "execution_count": 7,
   "id": "ffaf9ee8-b6fb-47b0-a28e-13b3d593712a",
   "metadata": {},
   "outputs": [],
   "source": [
    "import pandas as pd\n",
    "import numpy as np\n",
    "import time\n",
    "import pickle\n",
    "import matplotlib.pyplot as plt\n",
    "from sklearn.model_selection import train_test_split\n",
    "from sklearn.preprocessing import StandardScaler\n",
    "from sklearn.feature_selection import RFE\n",
    "from sklearn.ensemble import RandomForestClassifier\n",
    "from sklearn.tree import DecisionTreeClassifier\n",
    "from sklearn.neighbors import KNeighborsClassifier\n",
    "from sklearn.naive_bayes import GaussianNB\n",
    "from sklearn.svm import SVC\n",
    "from sklearn.linear_model import LogisticRegression\n",
    "from sklearn.feature_selection import SelectKBest\n",
    "from sklearn.feature_selection import chi2\n",
    "from sklearn.feature_selection import SequentialFeatureSelector as sfs"
   ]
  },
  {
   "cell_type": "markdown",
   "id": "9a3e6d57-88d3-4b9d-ae25-9c1f8cfe6ac3",
   "metadata": {},
   "source": [
    "The SequentialFeatureSelector (SFS) from sklearn.feature_selection is a versatile tool for feature selection in scikit-learn. It implements forward and backward feature selection algorithms based on different scoring functions.\n",
    "\n",
    "Scoring Functions: It supports different scoring functions to evaluate the quality of subsets of features, such as accuracy, AUC, mean squared error, etc. You can specify these scoring functions using the scoring parameter."
   ]
  },
  {
   "cell_type": "code",
   "execution_count": 40,
   "id": "01343a07-c63d-4b9b-8bf6-240738239c67",
   "metadata": {},
   "outputs": [],
   "source": [
    "#SFS_Feature: Performs feature selection using SequentialFeatureSelector with two models (LogisticRegression and RandomForestClassifier).\n",
    "#It selects 2 features based on forward selection (direction=\"forward\")\n",
    "def SFS_Feature(indep_X,dep_Y):\n",
    "    SFSlist1=[]\n",
    "    log_model=LogisticRegression(solver='lbfgs')\n",
    "    RF=RandomForestClassifier(n_estimators = 10, criterion = 'entropy', random_state = 0)\n",
    "    \n",
    "    SFSmodellist=[log_model,RF]\n",
    "    for i in SFSmodellist:\n",
    "        log_sfs = sfs(i,n_features_to_select=2, tol=None, direction=\"forward\", scoring=None, cv=None, n_jobs=None)\n",
    "        log_fit = log_sfs.fit(indep_X,dep_Y)\n",
    "        log_sfs_feature=log_fit.transform(indep_X)\n",
    "        SFSlist1.append(log_sfs_feature)\n",
    "    return SFSlist1\n",
    "#(Retrieves the names of selected features after performing feature selection Retrieves the names of selected features\n",
    "#after performing feature selection using SequentialFeatureSelector with the same models and parameters as SFS_Feature.)\n",
    "def Feature_Name(indep_X,dep_Y):\n",
    "    SFSlist=[]\n",
    "    log_model=LogisticRegression(solver='lbfgs')\n",
    "    RF=RandomForestClassifier(n_estimators = 10, criterion = 'entropy', random_state = 0)\n",
    "    \n",
    "    SFSmodellist1=[log_model,RF]\n",
    "    for i in SFSmodellist1:\n",
    "        log_sfs = sfs(i,n_features_to_select=2, tol=None, direction=\"forward\", scoring=None, cv=None, n_jobs=None)\n",
    "        log_fit = log_sfs.fit(indep_X,dep_Y)\n",
    "        log_sfs_feature=log_fit.transform(indep_X)\n",
    "        op=log_sfs.get_feature_names_out(input_features=None)\n",
    "        SFSlist.append(op)\n",
    "    return SFSlist\n",
    "\n",
    "def split_scalar(indep_X,dep_Y):\n",
    "    X_train,X_test,Y_train,Y_test=train_test_split(indep_X,dep_Y,test_size=0.25,random_state=0)\n",
    "    sc=StandardScaler()\n",
    "    X_train=sc.fit_transform(X_train)\n",
    "    X_test=sc.transform(X_test)\n",
    "    return X_train,X_test,Y_train,Y_test\n",
    "\n",
    "def cm_prediction(classifier,X_test):\n",
    "    y_pred=classifier.predict(X_test)\n",
    "    \n",
    "#Making confusion matrix\n",
    "    from sklearn.metrics import confusion_matrix\n",
    "    cm=confusion_matrix(Y_test,y_pred)\n",
    "    \n",
    "    from sklearn.metrics import accuracy_score\n",
    "    from sklearn.metrics import classification_report\n",
    "    \n",
    "    Accuracy=accuracy_score(Y_test,y_pred)\n",
    "    report=classification_report(Y_test,y_pred)\n",
    "    return classifier,Accuracy,report,X_test,Y_test,cm\n",
    "\n",
    "def logistic(X_train,Y_train,X_test):\n",
    "    from sklearn.linear_model import LogisticRegression\n",
    "    classifier=LogisticRegression(random_state=0)\n",
    "    classifier.fit(X_train,Y_train)\n",
    "    classifier,accuracy,report,X_test,Y_test,cm=cm_prediction(classifier,X_test)\n",
    "    return classifier,accuracy,report,X_test,Y_test,cm\n",
    "\n",
    "def svm_linear(X_train,Y_train,X_test):\n",
    "    from sklearn.svm import SVC\n",
    "    classifier=SVC(kernel=\"linear\",random_state=0)\n",
    "    classifier.fit(X_train,Y_train)\n",
    "    classifier,accuracy,report,X_test,Y_test,cm=cm_prediction(classifier,X_test)\n",
    "    return classifier,accuracy,report,X_test,Y_test,cm\n",
    "    \n",
    "def svm_NL(X_train,Y_train,X_test):\n",
    "    from sklearn.svm import SVC\n",
    "    classifier=SVC(kernel=\"rbf\",random_state=0)\n",
    "    classifier.fit(X_train,Y_train)\n",
    "    classifier,accuracy,report,X_test,Y_test,cm=cm_prediction(classifier,X_test)\n",
    "    return classifier,accuracy,report,X_test,Y_test,cm\n",
    "    \n",
    "def Naive(X_train,Y_train,X_test):\n",
    "    from sklearn.naive_bayes import GaussianNB\n",
    "    classifier=GaussianNB()\n",
    "    classifier.fit(X_train,Y_train)\n",
    "    classifier,accuracy,report,X_test,Y_test,cm=cm_prediction(classifier,X_test)\n",
    "    return classifier,accuracy,report,X_test,Y_test,cm\n",
    "    \n",
    "def knn(X_train,Y_train,X_test):\n",
    "    from sklearn.neighbors import KNeighborsClassifier\n",
    "    classifier=KNeighborsClassifier(n_neighbors=5,metric='minkowski',p=2)\n",
    "    classifier.fit(X_train,Y_train)\n",
    "    classifier,accuracy,report,X_test,Y_test,cm=cm_prediction(classifier,X_test)\n",
    "    return classifier,accuracy,report,X_test,Y_test,cm\n",
    "\n",
    "def DecisionTree(X_train,Y_train,X_test):\n",
    "    from sklearn.tree import DecisionTreeClassifier\n",
    "    classifier=DecisionTreeClassifier(criterion=\"entropy\",random_state=0)\n",
    "    classifier.fit(X_train,Y_train)\n",
    "    classifier,accuracy,report,X_test,Y_test,cm=cm_prediction(classifier,X_test)\n",
    "    return classifier,accuracy,report,X_test,Y_test,cm\n",
    "\n",
    "def RandomForest(X_train,Y_train,X_test):\n",
    "    from sklearn.ensemble import RandomForestClassifier\n",
    "    classifier=RandomForestClassifier(n_estimators=10, criterion=\"entropy\",random_state=0)\n",
    "    classifier.fit(X_train,Y_train)\n",
    "    classifier,accuracy,report,X_test,Y_test,cm=cm_prediction(classifier,X_test)\n",
    "    return classifier,accuracy,report,X_test,Y_test,cm"
   ]
  },
  {
   "cell_type": "code",
   "execution_count": 41,
   "id": "ea78bf96-6679-484c-8bc4-69ebfa65b45e",
   "metadata": {},
   "outputs": [],
   "source": [
    "def rfe_classification(acclog,accsvm1,accsvmn1,accknn,accnav,accdes,accrf):\n",
    "    rfedataframe=pd.DataFrame(index=[\"Logistic\",\"Random\"],columns=[\"Logistic\",\"SVM1\",\"SVMn1\",\n",
    "                                                        \"KNN\",\"Naive\",\"Decision\",\"Random\"])\n",
    "    for number,idex in enumerate(rfedataframe.index):\n",
    "        rfedataframe[\"Logistic\"][idex]=acclog[number]\n",
    "        rfedataframe[\"SVM1\"][idex]=accsvm1[number]\n",
    "        rfedataframe[\"SVMn1\"][idex]=accsvmn1[number]\n",
    "        rfedataframe[\"KNN\"][idex]=accknn[number]\n",
    "        rfedataframe[\"Naive\"][idex]=accnav[number]\n",
    "        rfedataframe[\"Decision\"][idex]=accdes[number]\n",
    "        rfedataframe[\"Random\"][idex]=accrf[number]\n",
    "    return rfedataframe    "
   ]
  },
  {
   "cell_type": "code",
   "execution_count": 42,
   "id": "8cc2fa6b-a39a-49f4-b2c3-cac8b7f7a4b6",
   "metadata": {},
   "outputs": [],
   "source": [
    "dataset1=pd.read_csv(\"prep.csv\",index_col=None)\n",
    "df2=dataset1\n",
    "df=pd.get_dummies(df2,drop_first=True)\n",
    "indep_X=df.drop(\"classification_yes\",axis=1)\n",
    "dep_Y=df[\"classification_yes\"]"
   ]
  },
  {
   "cell_type": "code",
   "execution_count": 43,
   "id": "929dce6f-b435-46a3-9e5c-2baa64db73ef",
   "metadata": {},
   "outputs": [],
   "source": [
    "SFSlist=SFS_Feature(indep_X,dep_Y)\n",
    "acclog=[]\n",
    "accsvm1=[]\n",
    "accsvmn1=[]\n",
    "accknn=[]\n",
    "accnav=[]\n",
    "accdes=[]\n",
    "accrf=[]"
   ]
  },
  {
   "cell_type": "code",
   "execution_count": 12,
   "id": "5bdcf86a-e294-43d4-ae30-ca455e1f76e4",
   "metadata": {},
   "outputs": [
    {
     "data": {
      "text/plain": [
       "[array([[  3.        ,   0.        , 137.52875399,  12.51815562,\n",
       "          38.86890244,   0.        ],\n",
       "        [  2.        ,   0.        , 137.52875399,  10.7       ,\n",
       "          34.        ,   0.        ],\n",
       "        [  1.        ,   0.        , 138.        ,  12.        ,\n",
       "          34.        ,   0.        ],\n",
       "        ...,\n",
       "        [  3.        ,   0.        , 134.        ,   9.1       ,\n",
       "          26.        ,   0.        ],\n",
       "        [  0.        ,   0.        , 142.        ,   8.5       ,\n",
       "          38.86890244,   0.        ],\n",
       "        [  0.        ,   0.        , 140.        ,  16.3       ,\n",
       "          53.        ,   0.        ]]),\n",
       " array([[  3.        ,  57.48210526,  38.86890244,   1.        ,\n",
       "           0.        ,   0.        ],\n",
       "        [  2.        ,  22.        ,  34.        ,   1.        ,\n",
       "           0.        ,   0.        ],\n",
       "        [  1.        ,  23.        ,  34.        ,   0.        ,\n",
       "           0.        ,   0.        ],\n",
       "        ...,\n",
       "        [  3.        , 115.        ,  26.        ,   1.        ,\n",
       "           0.        ,   1.        ],\n",
       "        [  0.        ,  80.        ,  38.86890244,   0.        ,\n",
       "           0.        ,   1.        ],\n",
       "        [  0.        ,  49.        ,  53.        ,   0.        ,\n",
       "           0.        ,   0.        ]])]"
      ]
     },
     "execution_count": 12,
     "metadata": {},
     "output_type": "execute_result"
    }
   ],
   "source": [
    "SFSlist"
   ]
  },
  {
   "cell_type": "code",
   "execution_count": 44,
   "id": "082d74bf-fb39-4ba3-b634-b5277a18bc4f",
   "metadata": {},
   "outputs": [],
   "source": [
    "Feature_Name=Feature_Name(indep_X,dep_Y)"
   ]
  },
  {
   "cell_type": "code",
   "execution_count": 14,
   "id": "c05330a6-ef58-4c78-83c9-fa6932820e57",
   "metadata": {},
   "outputs": [
    {
     "data": {
      "text/plain": [
       "[array(['al', 'hrmo'], dtype=object), array(['al', 'pcv'], dtype=object)]"
      ]
     },
     "execution_count": 14,
     "metadata": {},
     "output_type": "execute_result"
    }
   ],
   "source": [
    "Feature_Name"
   ]
  },
  {
   "cell_type": "code",
   "execution_count": 45,
   "id": "be16ee5c-9e5c-411d-8c33-38bd2f535173",
   "metadata": {},
   "outputs": [],
   "source": [
    "for i in SFSlist:\n",
    "    X_train,X_test,Y_train,Y_test=split_scalar(i,dep_Y)\n",
    "\n",
    "    classifier,accuracy,report,X_test,Y_test,cm=logistic(X_train,Y_train,X_test)\n",
    "    acclog.append(accuracy)\n",
    "\n",
    "    classifier,accuracy,report,X_test,Y_test,cm=svm_linear(X_train,Y_train,X_test)\n",
    "    accsvm1.append(accuracy)\n",
    "\n",
    "    classifier,accuracy,report,X_test,Y_test,cm=svm_NL(X_train,Y_train,X_test)\n",
    "    accsvmn1.append(accuracy)\n",
    "\n",
    "    classifier,accuracy,report,X_test,Y_test,cm=knn(X_train,Y_train,X_test)\n",
    "    accknn.append(accuracy)\n",
    "\n",
    "    classifier,accuracy,report,X_test,Y_test,cm=Naive(X_train,Y_train,X_test)\n",
    "    accnav.append(accuracy)\n",
    "\n",
    "    classifier,accuracy,report,X_test,Y_test,cm=DecisionTree(X_train,Y_train,X_test)\n",
    "    accdes.append(accuracy)\n",
    "\n",
    "    classifier,accuracy,report,X_test,Y_test,cm=RandomForest(X_train,Y_train,X_test)\n",
    "    accrf.append(accuracy)\n",
    "\n",
    "result=rfe_classification(acclog,accsvm1,accsvmn1,accknn,accnav,accdes,accrf)\n"
   ]
  },
  {
   "cell_type": "code",
   "execution_count": 16,
   "id": "8300d03d-c16f-422d-b5b9-5c70c322c56b",
   "metadata": {},
   "outputs": [
    {
     "data": {
      "text/html": [
       "<div>\n",
       "<style scoped>\n",
       "    .dataframe tbody tr th:only-of-type {\n",
       "        vertical-align: middle;\n",
       "    }\n",
       "\n",
       "    .dataframe tbody tr th {\n",
       "        vertical-align: top;\n",
       "    }\n",
       "\n",
       "    .dataframe thead th {\n",
       "        text-align: right;\n",
       "    }\n",
       "</style>\n",
       "<table border=\"1\" class=\"dataframe\">\n",
       "  <thead>\n",
       "    <tr style=\"text-align: right;\">\n",
       "      <th></th>\n",
       "      <th>Logistic</th>\n",
       "      <th>SVM1</th>\n",
       "      <th>SVMn1</th>\n",
       "      <th>KNN</th>\n",
       "      <th>Naive</th>\n",
       "      <th>Decision</th>\n",
       "      <th>Random</th>\n",
       "    </tr>\n",
       "  </thead>\n",
       "  <tbody>\n",
       "    <tr>\n",
       "      <th>Logistic</th>\n",
       "      <td>1.0</td>\n",
       "      <td>0.99</td>\n",
       "      <td>0.99</td>\n",
       "      <td>1.0</td>\n",
       "      <td>0.87</td>\n",
       "      <td>1.0</td>\n",
       "      <td>1.0</td>\n",
       "    </tr>\n",
       "    <tr>\n",
       "      <th>Random</th>\n",
       "      <td>0.97</td>\n",
       "      <td>0.96</td>\n",
       "      <td>0.96</td>\n",
       "      <td>0.98</td>\n",
       "      <td>0.96</td>\n",
       "      <td>0.99</td>\n",
       "      <td>0.99</td>\n",
       "    </tr>\n",
       "  </tbody>\n",
       "</table>\n",
       "</div>"
      ],
      "text/plain": [
       "         Logistic  SVM1 SVMn1   KNN Naive Decision Random\n",
       "Logistic      1.0  0.99  0.99   1.0  0.87      1.0    1.0\n",
       "Random       0.97  0.96  0.96  0.98  0.96     0.99   0.99"
      ]
     },
     "execution_count": 16,
     "metadata": {},
     "output_type": "execute_result"
    }
   ],
   "source": [
    "result\n",
    "#6"
   ]
  },
  {
   "cell_type": "code",
   "execution_count": 24,
   "id": "82efd151-51aa-4351-a526-a807f27f412a",
   "metadata": {},
   "outputs": [
    {
     "data": {
      "text/html": [
       "<div>\n",
       "<style scoped>\n",
       "    .dataframe tbody tr th:only-of-type {\n",
       "        vertical-align: middle;\n",
       "    }\n",
       "\n",
       "    .dataframe tbody tr th {\n",
       "        vertical-align: top;\n",
       "    }\n",
       "\n",
       "    .dataframe thead th {\n",
       "        text-align: right;\n",
       "    }\n",
       "</style>\n",
       "<table border=\"1\" class=\"dataframe\">\n",
       "  <thead>\n",
       "    <tr style=\"text-align: right;\">\n",
       "      <th></th>\n",
       "      <th>Logistic</th>\n",
       "      <th>SVM1</th>\n",
       "      <th>SVMn1</th>\n",
       "      <th>KNN</th>\n",
       "      <th>Naive</th>\n",
       "      <th>Decision</th>\n",
       "      <th>Random</th>\n",
       "    </tr>\n",
       "  </thead>\n",
       "  <tbody>\n",
       "    <tr>\n",
       "      <th>Logistic</th>\n",
       "      <td>0.98</td>\n",
       "      <td>0.98</td>\n",
       "      <td>0.99</td>\n",
       "      <td>0.98</td>\n",
       "      <td>0.87</td>\n",
       "      <td>0.98</td>\n",
       "      <td>0.98</td>\n",
       "    </tr>\n",
       "    <tr>\n",
       "      <th>Random</th>\n",
       "      <td>0.96</td>\n",
       "      <td>0.96</td>\n",
       "      <td>0.96</td>\n",
       "      <td>0.99</td>\n",
       "      <td>0.96</td>\n",
       "      <td>0.99</td>\n",
       "      <td>0.99</td>\n",
       "    </tr>\n",
       "  </tbody>\n",
       "</table>\n",
       "</div>"
      ],
      "text/plain": [
       "         Logistic  SVM1 SVMn1   KNN Naive Decision Random\n",
       "Logistic     0.98  0.98  0.99  0.98  0.87     0.98   0.98\n",
       "Random       0.96  0.96  0.96  0.99  0.96     0.99   0.99"
      ]
     },
     "execution_count": 24,
     "metadata": {},
     "output_type": "execute_result"
    }
   ],
   "source": [
    "result\n",
    "#5"
   ]
  },
  {
   "cell_type": "code",
   "execution_count": 30,
   "id": "9a582b1b-e9e0-467a-8cc0-56b6736eed56",
   "metadata": {},
   "outputs": [
    {
     "data": {
      "text/html": [
       "<div>\n",
       "<style scoped>\n",
       "    .dataframe tbody tr th:only-of-type {\n",
       "        vertical-align: middle;\n",
       "    }\n",
       "\n",
       "    .dataframe tbody tr th {\n",
       "        vertical-align: top;\n",
       "    }\n",
       "\n",
       "    .dataframe thead th {\n",
       "        text-align: right;\n",
       "    }\n",
       "</style>\n",
       "<table border=\"1\" class=\"dataframe\">\n",
       "  <thead>\n",
       "    <tr style=\"text-align: right;\">\n",
       "      <th></th>\n",
       "      <th>Logistic</th>\n",
       "      <th>SVM1</th>\n",
       "      <th>SVMn1</th>\n",
       "      <th>KNN</th>\n",
       "      <th>Naive</th>\n",
       "      <th>Decision</th>\n",
       "      <th>Random</th>\n",
       "    </tr>\n",
       "  </thead>\n",
       "  <tbody>\n",
       "    <tr>\n",
       "      <th>Logistic</th>\n",
       "      <td>0.98</td>\n",
       "      <td>0.97</td>\n",
       "      <td>0.99</td>\n",
       "      <td>0.98</td>\n",
       "      <td>0.83</td>\n",
       "      <td>0.95</td>\n",
       "      <td>0.97</td>\n",
       "    </tr>\n",
       "    <tr>\n",
       "      <th>Random</th>\n",
       "      <td>0.95</td>\n",
       "      <td>0.94</td>\n",
       "      <td>0.96</td>\n",
       "      <td>0.99</td>\n",
       "      <td>0.93</td>\n",
       "      <td>0.99</td>\n",
       "      <td>0.99</td>\n",
       "    </tr>\n",
       "  </tbody>\n",
       "</table>\n",
       "</div>"
      ],
      "text/plain": [
       "         Logistic  SVM1 SVMn1   KNN Naive Decision Random\n",
       "Logistic     0.98  0.97  0.99  0.98  0.83     0.95   0.97\n",
       "Random       0.95  0.94  0.96  0.99  0.93     0.99   0.99"
      ]
     },
     "execution_count": 30,
     "metadata": {},
     "output_type": "execute_result"
    }
   ],
   "source": [
    "result\n",
    "#4"
   ]
  },
  {
   "cell_type": "code",
   "execution_count": 38,
   "id": "493048f0-68b8-4d0a-8501-a5165249041c",
   "metadata": {},
   "outputs": [
    {
     "data": {
      "text/html": [
       "<div>\n",
       "<style scoped>\n",
       "    .dataframe tbody tr th:only-of-type {\n",
       "        vertical-align: middle;\n",
       "    }\n",
       "\n",
       "    .dataframe tbody tr th {\n",
       "        vertical-align: top;\n",
       "    }\n",
       "\n",
       "    .dataframe thead th {\n",
       "        text-align: right;\n",
       "    }\n",
       "</style>\n",
       "<table border=\"1\" class=\"dataframe\">\n",
       "  <thead>\n",
       "    <tr style=\"text-align: right;\">\n",
       "      <th></th>\n",
       "      <th>Logistic</th>\n",
       "      <th>SVM1</th>\n",
       "      <th>SVMn1</th>\n",
       "      <th>KNN</th>\n",
       "      <th>Naive</th>\n",
       "      <th>Decision</th>\n",
       "      <th>Random</th>\n",
       "    </tr>\n",
       "  </thead>\n",
       "  <tbody>\n",
       "    <tr>\n",
       "      <th>Logistic</th>\n",
       "      <td>0.97</td>\n",
       "      <td>0.94</td>\n",
       "      <td>0.97</td>\n",
       "      <td>0.99</td>\n",
       "      <td>0.82</td>\n",
       "      <td>0.99</td>\n",
       "      <td>0.99</td>\n",
       "    </tr>\n",
       "    <tr>\n",
       "      <th>Random</th>\n",
       "      <td>0.98</td>\n",
       "      <td>0.95</td>\n",
       "      <td>0.96</td>\n",
       "      <td>0.99</td>\n",
       "      <td>0.91</td>\n",
       "      <td>0.99</td>\n",
       "      <td>0.99</td>\n",
       "    </tr>\n",
       "  </tbody>\n",
       "</table>\n",
       "</div>"
      ],
      "text/plain": [
       "         Logistic  SVM1 SVMn1   KNN Naive Decision Random\n",
       "Logistic     0.97  0.94  0.97  0.99  0.82     0.99   0.99\n",
       "Random       0.98  0.95  0.96  0.99  0.91     0.99   0.99"
      ]
     },
     "execution_count": 38,
     "metadata": {},
     "output_type": "execute_result"
    }
   ],
   "source": [
    "result\n",
    "#3"
   ]
  },
  {
   "cell_type": "code",
   "execution_count": 46,
   "id": "27a759ec-258b-474f-8c53-4a7d2208e3d0",
   "metadata": {},
   "outputs": [
    {
     "data": {
      "text/html": [
       "<div>\n",
       "<style scoped>\n",
       "    .dataframe tbody tr th:only-of-type {\n",
       "        vertical-align: middle;\n",
       "    }\n",
       "\n",
       "    .dataframe tbody tr th {\n",
       "        vertical-align: top;\n",
       "    }\n",
       "\n",
       "    .dataframe thead th {\n",
       "        text-align: right;\n",
       "    }\n",
       "</style>\n",
       "<table border=\"1\" class=\"dataframe\">\n",
       "  <thead>\n",
       "    <tr style=\"text-align: right;\">\n",
       "      <th></th>\n",
       "      <th>Logistic</th>\n",
       "      <th>SVM1</th>\n",
       "      <th>SVMn1</th>\n",
       "      <th>KNN</th>\n",
       "      <th>Naive</th>\n",
       "      <th>Decision</th>\n",
       "      <th>Random</th>\n",
       "    </tr>\n",
       "  </thead>\n",
       "  <tbody>\n",
       "    <tr>\n",
       "      <th>Logistic</th>\n",
       "      <td>0.94</td>\n",
       "      <td>0.94</td>\n",
       "      <td>0.94</td>\n",
       "      <td>0.95</td>\n",
       "      <td>0.82</td>\n",
       "      <td>0.97</td>\n",
       "      <td>0.94</td>\n",
       "    </tr>\n",
       "    <tr>\n",
       "      <th>Random</th>\n",
       "      <td>0.93</td>\n",
       "      <td>0.92</td>\n",
       "      <td>0.93</td>\n",
       "      <td>0.96</td>\n",
       "      <td>0.81</td>\n",
       "      <td>0.96</td>\n",
       "      <td>0.96</td>\n",
       "    </tr>\n",
       "  </tbody>\n",
       "</table>\n",
       "</div>"
      ],
      "text/plain": [
       "         Logistic  SVM1 SVMn1   KNN Naive Decision Random\n",
       "Logistic     0.94  0.94  0.94  0.95  0.82     0.97   0.94\n",
       "Random       0.93  0.92  0.93  0.96  0.81     0.96   0.96"
      ]
     },
     "execution_count": 46,
     "metadata": {},
     "output_type": "execute_result"
    }
   ],
   "source": [
    "result\n",
    "#2"
   ]
  },
  {
   "cell_type": "code",
   "execution_count": null,
   "id": "118394de-3ead-40f1-a926-6db98c9acb31",
   "metadata": {},
   "outputs": [],
   "source": []
  }
 ],
 "metadata": {
  "kernelspec": {
   "display_name": "Python 3 (ipykernel)",
   "language": "python",
   "name": "python3"
  },
  "language_info": {
   "codemirror_mode": {
    "name": "ipython",
    "version": 3
   },
   "file_extension": ".py",
   "mimetype": "text/x-python",
   "name": "python",
   "nbconvert_exporter": "python",
   "pygments_lexer": "ipython3",
   "version": "3.11.8"
  },
  "widgets": {
   "application/vnd.jupyter.widget-state+json": {
    "state": {},
    "version_major": 2,
    "version_minor": 0
   }
  }
 },
 "nbformat": 4,
 "nbformat_minor": 5
}
